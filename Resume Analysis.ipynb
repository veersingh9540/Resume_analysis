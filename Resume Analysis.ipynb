{
 "cells": [
  {
   "cell_type": "code",
   "execution_count": null,
   "metadata": {},
   "outputs": [],
   "source": []
  },
  {
   "cell_type": "code",
   "execution_count": 3,
   "metadata": {},
   "outputs": [
    {
     "name": "stdout",
     "output_type": "stream",
     "text": [
      "Requirement already satisfied: PyPDF2 in /opt/anaconda3/lib/python3.8/site-packages (1.26.0)\r\n"
     ]
    }
   ],
   "source": [
    "!pip install PyPDF2"
   ]
  },
  {
   "cell_type": "code",
   "execution_count": null,
   "metadata": {},
   "outputs": [],
   "source": [
    "# 1. Read in Resume"
   ]
  },
  {
   "cell_type": "code",
   "execution_count": 3,
   "metadata": {},
   "outputs": [],
   "source": [
    "import  PyPDF2 \n"
   ]
  },
  {
   "cell_type": "code",
   "execution_count": 4,
   "metadata": {},
   "outputs": [],
   "source": [
    "resume_file_path = 'Resume PAth'\n",
    "fhandle = open(resume_file_path, 'rb')"
   ]
  },
  {
   "cell_type": "code",
   "execution_count": 5,
   "metadata": {},
   "outputs": [],
   "source": [
    "pdfReader = PyPDF2.PdfFileReader(fhandle)"
   ]
  },
  {
   "cell_type": "code",
   "execution_count": 6,
   "metadata": {},
   "outputs": [],
   "source": [
    "pagehandle = pdfReader.getPage(0)"
   ]
  },
  {
   "cell_type": "code",
   "execution_count": 7,
   "metadata": {},
   "outputs": [],
   "source": [
    "text = pagehandle.extractText()"
   ]
  },
  {
   "cell_type": "code",
   "execution_count": 8,
   "metadata": {},
   "outputs": [],
   "source": [
    "# Strip out unwanted text\n",
    "text = text.replace('o ','')\n",
    "text = text.replace('|', '')"
   ]
  },
  {
   "cell_type": "code",
   "execution_count": 9,
   "metadata": {},
   "outputs": [
    {
     "data": {
      "text/plain": [
       "'!\"#$%&&\\'(!)*+$\\n!,-./012(&3453221\\n!,-./012(&3453221(/5.6(0(7.1,34(289:0.5,30;(\\n<0:=41,938(53(>?@A)(038(B0.0(!:523:2C()(.0=2(\\nD1582(53(EF(/,1=(038(;5=2(;2013534(32/(.65347C(\\n)3.2127.28(.,(9.5;5G2(EF(0<5;5.527H(2ID21523:2H(038(\\n7=5;;7(53(53-,1E0.5,3(.2:63,;,4FC\\nJ22175346KLMNO4E05;C:,E\\nKPKKNMNPNQB2;65H()3850\\n///C3291.6C:,E\\n;53=2853C:,E@53@J22175346KPKK\\n45.69<C:,E@J22175346KLMN\\n!\"#$%&\\'()\\n!\"#$%&\\'()\\'*)+,-.,%%(.,-)/!+0\\nBF(R0.5;()37.5.9.2(,-(&3453221534(038(S2:6C(\\nTR932(\"35J2175.FU\\nVNQW(X(VNVQWCYZ(!+RA\\n[,ED9.21(&3453221534\\n1%,.\\'()1%#\\',2\"(3)/45670\\n?0IE5(R9<;5:(!1(!2:C(!:6,,;(H*2/(B2;65\\nR6F75:7(H[62E57.1FH(>0.67(H([,ED9.21(!:523:2(H&34;576(\\nVNQL(X(VNQWWWCY(\\\\\\n*+\\',,*\\nJavascript-(.+/!01!.\\'!)$!/\\n89&&):;\"#<)=%>%&\\'?%()@)A%\"#;):?%#.\"&.:;\\n*291.6C:,E\\nNP@VNVN](R12723.\\n!\"#$%&\\'()$\"*+,-.\"$/$01*2*3,%4)-,5\\nAchievements/Tasks\\n^>082(0([60._`S(97534()_>(a0.7,3(A7757.03.(AR)(\\n^>082(0(/6,;2(%582,([,3-2123:2(ADD(97534(\\n-10E2/,1=7(;5=2(R221Cb7(H(/2<\\'S[(H7,:=2.C5,(\\n^>082(0(>27704534(0DD(/5.6(0(35:2(-1,3.238(C(\\n\"7534(R221b7(H(R97621(038(2ID1277(\\n89&&):;\"#<)=%>%&\\'?%()@)BCB)1?%#.\"&.:;\\n),.1,3(S2:63,;,4F(RJ.C(?SB\\nNP@VNVN](QN@VNVN\\n!\"#$%&\\'()$\"*+,-.\"$/$01*2*3,%4)-,5\\nAchievements/Tasks\\n^>082(0(&]:,EE21:2(a2<75.2(\"7534(R$Rc7(?010J2;(\\n-10E2/,1=(\\nA%;\".&)1\"&%:)D\",\"-%()\\n_0;0b5(!.,12\\nNZ@VNQK](R12723.\\n!\"#$%\"&\\'()*\\'+#),%)-%)$%\\'./#\"%\\nAchievements/Tasks\\n^S0=534(:012(,-(0;;(;,47(,-(.62(70;2(038(D1,89:.7(\\n.,(<2(D91:60728(20:6(80F(\\n^+,,4;2(_9753277(>053.2303:2(038(!&`(-,1(\\n<2..21([97.,E21(\\'20:6(\\nPHPPythonRNodeJSReactJSVueJS\\nLaravelAWS\\nFirebase\\nHeroku\\nSalesforce\\nTensorßow\\nOpenCV1!.*()%,/1.(2!$&*\\n%582,([,3-2123:534(ADD(TNK@VNVNU(\\n^>082(0(/6,;2(%582,([,3-2123:2(ADD(97534(\\n-10E2/,1=7(;5=2(R221Cb7(H(/2<\\'S[(H7,:=2.C5,(\\n^R1,b2:.(?53=d(\\n6..D7d@@4901828];,/;0387]WZLLKC621,=90DDC:,E(\\nS237,1e,/(f0:2(;038E01=(B2.2:.5,3(ADD(\\nTNK@VNVNU(^f0:2(?038E01=(\"7534(.237,1e,/(-0:2(E276(038(\\n\\'20:.g!\\n^R1,b2:.(?53=d(\\n4901828];,/;0387]WZLLKC621,=90DDC:,E((\\na2<(7:10D534(97534(Bb034,(038(DF.6,3(\\nTNW@VNVNU((^>082(0(/2<(7:10D534(a2<75.2(.,(2I.10:.(;0142(\\n0E,93.7(,-(80.0(-1,E(/2<75.27(/6212<F(.62(80.0(\\n57(2I.10:.28(038(70J28(.,(0(;,:0;(h;2(53(F,91(\\n:,ED9.21(,1(0(80.0<072(\\n^R1,b2:.(;53=(d(\\n6..D7d@@-1,G23]7:19<;038]NQNVKC621,=90DDC:,E(\\n>082(0(6038(427.912(B2.2:.5,3(97534(\\nS237,1e,/(E,89;27C(TNW@VNVNU(\\n^\\'20;(S5E2(A)($A*B(R`!&(&7.5E0.5,3(/5.6(\\ng0J07:15D.H(S237,1e,/Cg!(038(\\'20:.Cg!(\\n^R1,b2:.(;53=(d\\n6..D7d@@603882.2:.5,3]P8-:NC/2<C0DD@\\n(1#3,\\'$%&\\'()*\\nRESEARCH PAPER\\n%#45!)&!\"/.!%,\\'&6/%*/%)/\\')7(.5%&\\'()/\\n\"%&%3%*!\\nSukhveer Singh\\nQN@VNVN\\n^*2/(0DD1,0:6(-,1(E0=534(289:0.5,3(207521(-,1(\\n69E037(.60.(E0=27(;2013534(E,12(D10:.5:0;(038(\\n12;503.C([,ED9.21(%575,3(607(0(/582(J0152.F(,-(\\n.2:63,;,4527(07(/2;;(07(A94E23.28(\\'20;5.F(57(\\n,32(,-(.62(D,D9;01(.2:63,;,4527(,-(.657(82:082\\n189:;</1=>??/@/)>A=;BCD8E\\n^R0D21(;53=(d(6..D7d@@///C3291.6C:,E@127201:6\\n'"
      ]
     },
     "execution_count": 9,
     "metadata": {},
     "output_type": "execute_result"
    }
   ],
   "source": [
    "text"
   ]
  },
  {
   "cell_type": "code",
   "execution_count": 10,
   "metadata": {},
   "outputs": [],
   "source": [
    "# 2. Import and Authenticate to Service"
   ]
  },
  {
   "cell_type": "code",
   "execution_count": 11,
   "metadata": {},
   "outputs": [],
   "source": [
    "# Import Watson\n",
    "from ibm_watson import PersonalityInsightsV3\n",
    "\n",
    "# Import authenticator\n",
    "from ibm_cloud_sdk_core.authenticators import IAMAuthenticator"
   ]
  },
  {
   "cell_type": "code",
   "execution_count": 12,
   "metadata": {},
   "outputs": [],
   "source": [
    "#  Creds for Personality Insights\n",
    "apikey = 'API KEY'\n",
    "url = 'URL'"
   ]
  },
  {
   "cell_type": "code",
   "execution_count": 13,
   "metadata": {},
   "outputs": [],
   "source": [
    "# Authenticate to PI service\n",
    "authenticator = IAMAuthenticator(apikey)\n",
    "personality_insights = PersonalityInsightsV3(\n",
    "        version='2017-10-13', \n",
    "        authenticator=authenticator\n",
    ")\n",
    "personality_insights.set_service_url(url)"
   ]
  },
  {
   "cell_type": "code",
   "execution_count": 14,
   "metadata": {},
   "outputs": [],
   "source": [
    "# 3. Extract Resume Personality Insights"
   ]
  },
  {
   "cell_type": "code",
   "execution_count": 15,
   "metadata": {},
   "outputs": [
    {
     "data": {
      "text/plain": [
       "{'word_count': 253,\n",
       " 'word_count_message': 'There were 253 words in the input. We need a minimum of 600, preferably 1,200 or more, to compute statistically significant estimates',\n",
       " 'processed_language': 'en',\n",
       " 'personality': [{'trait_id': 'big5_openness',\n",
       "   'name': 'Openness',\n",
       "   'category': 'personality',\n",
       "   'percentile': 0.15353607994894375,\n",
       "   'significant': True,\n",
       "   'children': [{'trait_id': 'facet_adventurousness',\n",
       "     'name': 'Adventurousness',\n",
       "     'category': 'personality',\n",
       "     'percentile': 0.3265878176898197,\n",
       "     'significant': True},\n",
       "    {'trait_id': 'facet_artistic_interests',\n",
       "     'name': 'Artistic interests',\n",
       "     'category': 'personality',\n",
       "     'percentile': 0.580983124584181,\n",
       "     'significant': True},\n",
       "    {'trait_id': 'facet_emotionality',\n",
       "     'name': 'Emotionality',\n",
       "     'category': 'personality',\n",
       "     'percentile': 0.5268824602129961,\n",
       "     'significant': True},\n",
       "    {'trait_id': 'facet_imagination',\n",
       "     'name': 'Imagination',\n",
       "     'category': 'personality',\n",
       "     'percentile': 0.6335475779383942,\n",
       "     'significant': True},\n",
       "    {'trait_id': 'facet_intellect',\n",
       "     'name': 'Intellect',\n",
       "     'category': 'personality',\n",
       "     'percentile': 0.7600323507098756,\n",
       "     'significant': True},\n",
       "    {'trait_id': 'facet_liberalism',\n",
       "     'name': 'Authority-challenging',\n",
       "     'category': 'personality',\n",
       "     'percentile': 0.8208795141519347,\n",
       "     'significant': True}]},\n",
       "  {'trait_id': 'big5_conscientiousness',\n",
       "   'name': 'Conscientiousness',\n",
       "   'category': 'personality',\n",
       "   'percentile': 0.23134324956712993,\n",
       "   'significant': True,\n",
       "   'children': [{'trait_id': 'facet_achievement_striving',\n",
       "     'name': 'Achievement striving',\n",
       "     'category': 'personality',\n",
       "     'percentile': 0.26117609211563214,\n",
       "     'significant': True},\n",
       "    {'trait_id': 'facet_cautiousness',\n",
       "     'name': 'Cautiousness',\n",
       "     'category': 'personality',\n",
       "     'percentile': 0.39983963188280236,\n",
       "     'significant': True},\n",
       "    {'trait_id': 'facet_dutifulness',\n",
       "     'name': 'Dutifulness',\n",
       "     'category': 'personality',\n",
       "     'percentile': 0.2278838196932454,\n",
       "     'significant': True},\n",
       "    {'trait_id': 'facet_orderliness',\n",
       "     'name': 'Orderliness',\n",
       "     'category': 'personality',\n",
       "     'percentile': 0.37514312008069794,\n",
       "     'significant': True},\n",
       "    {'trait_id': 'facet_self_discipline',\n",
       "     'name': 'Self-discipline',\n",
       "     'category': 'personality',\n",
       "     'percentile': 0.20613862066278332,\n",
       "     'significant': True},\n",
       "    {'trait_id': 'facet_self_efficacy',\n",
       "     'name': 'Self-efficacy',\n",
       "     'category': 'personality',\n",
       "     'percentile': 0.2691174382507655,\n",
       "     'significant': True}]},\n",
       "  {'trait_id': 'big5_extraversion',\n",
       "   'name': 'Extraversion',\n",
       "   'category': 'personality',\n",
       "   'percentile': 0.3241192618555437,\n",
       "   'significant': True,\n",
       "   'children': [{'trait_id': 'facet_activity_level',\n",
       "     'name': 'Activity level',\n",
       "     'category': 'personality',\n",
       "     'percentile': 0.3676895529902696,\n",
       "     'significant': True},\n",
       "    {'trait_id': 'facet_assertiveness',\n",
       "     'name': 'Assertiveness',\n",
       "     'category': 'personality',\n",
       "     'percentile': 0.2355552598682229,\n",
       "     'significant': True},\n",
       "    {'trait_id': 'facet_cheerfulness',\n",
       "     'name': 'Cheerfulness',\n",
       "     'category': 'personality',\n",
       "     'percentile': 0.23166997222694818,\n",
       "     'significant': True},\n",
       "    {'trait_id': 'facet_excitement_seeking',\n",
       "     'name': 'Excitement-seeking',\n",
       "     'category': 'personality',\n",
       "     'percentile': 0.7096849241244553,\n",
       "     'significant': True},\n",
       "    {'trait_id': 'facet_friendliness',\n",
       "     'name': 'Outgoing',\n",
       "     'category': 'personality',\n",
       "     'percentile': 0.2970778436265983,\n",
       "     'significant': True},\n",
       "    {'trait_id': 'facet_gregariousness',\n",
       "     'name': 'Gregariousness',\n",
       "     'category': 'personality',\n",
       "     'percentile': 0.37428740478267775,\n",
       "     'significant': True}]},\n",
       "  {'trait_id': 'big5_agreeableness',\n",
       "   'name': 'Agreeableness',\n",
       "   'category': 'personality',\n",
       "   'percentile': 0.2687479700978229,\n",
       "   'significant': True,\n",
       "   'children': [{'trait_id': 'facet_altruism',\n",
       "     'name': 'Altruism',\n",
       "     'category': 'personality',\n",
       "     'percentile': 0.41076031549904535,\n",
       "     'significant': True},\n",
       "    {'trait_id': 'facet_cooperation',\n",
       "     'name': 'Cooperation',\n",
       "     'category': 'personality',\n",
       "     'percentile': 0.3387303083367311,\n",
       "     'significant': True},\n",
       "    {'trait_id': 'facet_modesty',\n",
       "     'name': 'Modesty',\n",
       "     'category': 'personality',\n",
       "     'percentile': 0.587041491508714,\n",
       "     'significant': True},\n",
       "    {'trait_id': 'facet_morality',\n",
       "     'name': 'Uncompromising',\n",
       "     'category': 'personality',\n",
       "     'percentile': 0.3531470441410475,\n",
       "     'significant': True},\n",
       "    {'trait_id': 'facet_sympathy',\n",
       "     'name': 'Sympathy',\n",
       "     'category': 'personality',\n",
       "     'percentile': 0.6126540344904474,\n",
       "     'significant': True},\n",
       "    {'trait_id': 'facet_trust',\n",
       "     'name': 'Trust',\n",
       "     'category': 'personality',\n",
       "     'percentile': 0.11818298834440533,\n",
       "     'significant': True}]},\n",
       "  {'trait_id': 'big5_neuroticism',\n",
       "   'name': 'Emotional range',\n",
       "   'category': 'personality',\n",
       "   'percentile': 0.0007460837838059731,\n",
       "   'significant': True,\n",
       "   'children': [{'trait_id': 'facet_anger',\n",
       "     'name': 'Fiery',\n",
       "     'category': 'personality',\n",
       "     'percentile': 0.615674678644651,\n",
       "     'significant': True},\n",
       "    {'trait_id': 'facet_anxiety',\n",
       "     'name': 'Prone to worry',\n",
       "     'category': 'personality',\n",
       "     'percentile': 0.7461065327433273,\n",
       "     'significant': True},\n",
       "    {'trait_id': 'facet_depression',\n",
       "     'name': 'Melancholy',\n",
       "     'category': 'personality',\n",
       "     'percentile': 0.816712976128018,\n",
       "     'significant': True},\n",
       "    {'trait_id': 'facet_immoderation',\n",
       "     'name': 'Immoderation',\n",
       "     'category': 'personality',\n",
       "     'percentile': 0.5237011968505597,\n",
       "     'significant': True},\n",
       "    {'trait_id': 'facet_self_consciousness',\n",
       "     'name': 'Self-consciousness',\n",
       "     'category': 'personality',\n",
       "     'percentile': 0.7692126202858642,\n",
       "     'significant': True},\n",
       "    {'trait_id': 'facet_vulnerability',\n",
       "     'name': 'Susceptible to stress',\n",
       "     'category': 'personality',\n",
       "     'percentile': 0.7845379423952462,\n",
       "     'significant': True}]}],\n",
       " 'needs': [{'trait_id': 'need_challenge',\n",
       "   'name': 'Challenge',\n",
       "   'category': 'needs',\n",
       "   'percentile': 0.3073000282566889,\n",
       "   'significant': True},\n",
       "  {'trait_id': 'need_closeness',\n",
       "   'name': 'Closeness',\n",
       "   'category': 'needs',\n",
       "   'percentile': 0.3355687382186401,\n",
       "   'significant': True},\n",
       "  {'trait_id': 'need_curiosity',\n",
       "   'name': 'Curiosity',\n",
       "   'category': 'needs',\n",
       "   'percentile': 0.7087062638923626,\n",
       "   'significant': True},\n",
       "  {'trait_id': 'need_excitement',\n",
       "   'name': 'Excitement',\n",
       "   'category': 'needs',\n",
       "   'percentile': 0.38848659431754407,\n",
       "   'significant': True},\n",
       "  {'trait_id': 'need_harmony',\n",
       "   'name': 'Harmony',\n",
       "   'category': 'needs',\n",
       "   'percentile': 0.2452676431707036,\n",
       "   'significant': True},\n",
       "  {'trait_id': 'need_ideal',\n",
       "   'name': 'Ideal',\n",
       "   'category': 'needs',\n",
       "   'percentile': 0.32281350809542986,\n",
       "   'significant': True},\n",
       "  {'trait_id': 'need_liberty',\n",
       "   'name': 'Liberty',\n",
       "   'category': 'needs',\n",
       "   'percentile': 0.5002895053690489,\n",
       "   'significant': True},\n",
       "  {'trait_id': 'need_love',\n",
       "   'name': 'Love',\n",
       "   'category': 'needs',\n",
       "   'percentile': 0.4100265966076243,\n",
       "   'significant': True},\n",
       "  {'trait_id': 'need_practicality',\n",
       "   'name': 'Practicality',\n",
       "   'category': 'needs',\n",
       "   'percentile': 0.21714075385934184,\n",
       "   'significant': True},\n",
       "  {'trait_id': 'need_self_expression',\n",
       "   'name': 'Self-expression',\n",
       "   'category': 'needs',\n",
       "   'percentile': 0.4570105851941985,\n",
       "   'significant': True},\n",
       "  {'trait_id': 'need_stability',\n",
       "   'name': 'Stability',\n",
       "   'category': 'needs',\n",
       "   'percentile': 0.21976010108940158,\n",
       "   'significant': True},\n",
       "  {'trait_id': 'need_structure',\n",
       "   'name': 'Structure',\n",
       "   'category': 'needs',\n",
       "   'percentile': 0.32123972052299177,\n",
       "   'significant': True}],\n",
       " 'values': [{'trait_id': 'value_conservation',\n",
       "   'name': 'Conservation',\n",
       "   'category': 'values',\n",
       "   'percentile': 0.17795571602387977,\n",
       "   'significant': True},\n",
       "  {'trait_id': 'value_openness_to_change',\n",
       "   'name': 'Openness to change',\n",
       "   'category': 'values',\n",
       "   'percentile': 0.46484150718517525,\n",
       "   'significant': True},\n",
       "  {'trait_id': 'value_hedonism',\n",
       "   'name': 'Hedonism',\n",
       "   'category': 'values',\n",
       "   'percentile': 0.4639654758541186,\n",
       "   'significant': True},\n",
       "  {'trait_id': 'value_self_enhancement',\n",
       "   'name': 'Self-enhancement',\n",
       "   'category': 'values',\n",
       "   'percentile': 0.3708124057387199,\n",
       "   'significant': True},\n",
       "  {'trait_id': 'value_self_transcendence',\n",
       "   'name': 'Self-transcendence',\n",
       "   'category': 'values',\n",
       "   'percentile': 0.2251634898609663,\n",
       "   'significant': True}],\n",
       " 'warnings': [{'warning_id': 'WORD_COUNT_MESSAGE',\n",
       "   'message': 'There were 253 words in the input. We need a minimum of 600, preferably 1,200 or more, to compute statistically significant estimates'}]}"
      ]
     },
     "execution_count": 15,
     "metadata": {},
     "output_type": "execute_result"
    }
   ],
   "source": [
    "profile = personality_insights.profile(text, accept='application/json').get_result()\n",
    "profile"
   ]
  },
  {
   "cell_type": "code",
   "execution_count": 16,
   "metadata": {},
   "outputs": [
    {
     "name": "stdout",
     "output_type": "stream",
     "text": [
      "Openness 0.15353607994894375\n",
      "Conscientiousness 0.23134324956712993\n",
      "Extraversion 0.3241192618555437\n",
      "Agreeableness 0.2687479700978229\n",
      "Emotional range 0.0007460837838059731\n"
     ]
    }
   ],
   "source": [
    "for personality in profile['personality']:\n",
    "    print(personality['name'], personality['percentile'])"
   ]
  },
  {
   "cell_type": "code",
   "execution_count": 17,
   "metadata": {},
   "outputs": [
    {
     "name": "stdout",
     "output_type": "stream",
     "text": [
      "Conservation 0.17795571602387977\n",
      "Openness to change 0.46484150718517525\n",
      "Hedonism 0.4639654758541186\n",
      "Self-enhancement 0.3708124057387199\n",
      "Self-transcendence 0.2251634898609663\n"
     ]
    }
   ],
   "source": [
    "for personality in profile['values']:\n",
    "    print(personality['name'], personality['percentile'])"
   ]
  },
  {
   "cell_type": "code",
   "execution_count": 18,
   "metadata": {},
   "outputs": [
    {
     "name": "stdout",
     "output_type": "stream",
     "text": [
      "Challenge 0.3073000282566889\n",
      "Closeness 0.3355687382186401\n",
      "Curiosity 0.7087062638923626\n",
      "Excitement 0.38848659431754407\n",
      "Harmony 0.2452676431707036\n",
      "Ideal 0.32281350809542986\n",
      "Liberty 0.5002895053690489\n",
      "Love 0.4100265966076243\n",
      "Practicality 0.21714075385934184\n",
      "Self-expression 0.4570105851941985\n",
      "Stability 0.21976010108940158\n",
      "Structure 0.32123972052299177\n"
     ]
    }
   ],
   "source": [
    "for personality in profile['needs']:\n",
    "    print(personality['name'], personality['percentile'])"
   ]
  },
  {
   "cell_type": "code",
   "execution_count": 19,
   "metadata": {},
   "outputs": [],
   "source": [
    "# 4.Visualise"
   ]
  },
  {
   "cell_type": "code",
   "execution_count": 20,
   "metadata": {},
   "outputs": [],
   "source": [
    "# Import matplotlib \n",
    "from matplotlib import pyplot as plt\n",
    "# Import seaborn\n",
    "import seaborn as sns\n",
    "# Import pandas \n",
    "import pandas as pd"
   ]
  },
  {
   "cell_type": "code",
   "execution_count": 21,
   "metadata": {},
   "outputs": [],
   "source": [
    "# Visualise profiles \n",
    "needs = profile['needs']\n",
    "result = {need['name']:need['percentile'] for need in needs}\n",
    "df = pd.DataFrame.from_dict(result, orient='index')\n",
    "df.reset_index(inplace=True)\n",
    "df.columns = ['need', 'percentile']"
   ]
  },
  {
   "cell_type": "code",
   "execution_count": 24,
   "metadata": {},
   "outputs": [
    {
     "data": {
      "text/html": [
       "<div>\n",
       "<style scoped>\n",
       "    .dataframe tbody tr th:only-of-type {\n",
       "        vertical-align: middle;\n",
       "    }\n",
       "\n",
       "    .dataframe tbody tr th {\n",
       "        vertical-align: top;\n",
       "    }\n",
       "\n",
       "    .dataframe thead th {\n",
       "        text-align: right;\n",
       "    }\n",
       "</style>\n",
       "<table border=\"1\" class=\"dataframe\">\n",
       "  <thead>\n",
       "    <tr style=\"text-align: right;\">\n",
       "      <th></th>\n",
       "      <th>need</th>\n",
       "      <th>percentile</th>\n",
       "    </tr>\n",
       "  </thead>\n",
       "  <tbody>\n",
       "    <tr>\n",
       "      <th>0</th>\n",
       "      <td>Challenge</td>\n",
       "      <td>0.307300</td>\n",
       "    </tr>\n",
       "    <tr>\n",
       "      <th>1</th>\n",
       "      <td>Closeness</td>\n",
       "      <td>0.335569</td>\n",
       "    </tr>\n",
       "    <tr>\n",
       "      <th>2</th>\n",
       "      <td>Curiosity</td>\n",
       "      <td>0.708706</td>\n",
       "    </tr>\n",
       "    <tr>\n",
       "      <th>3</th>\n",
       "      <td>Excitement</td>\n",
       "      <td>0.388487</td>\n",
       "    </tr>\n",
       "    <tr>\n",
       "      <th>4</th>\n",
       "      <td>Harmony</td>\n",
       "      <td>0.245268</td>\n",
       "    </tr>\n",
       "    <tr>\n",
       "      <th>5</th>\n",
       "      <td>Ideal</td>\n",
       "      <td>0.322814</td>\n",
       "    </tr>\n",
       "    <tr>\n",
       "      <th>6</th>\n",
       "      <td>Liberty</td>\n",
       "      <td>0.500290</td>\n",
       "    </tr>\n",
       "    <tr>\n",
       "      <th>7</th>\n",
       "      <td>Love</td>\n",
       "      <td>0.410027</td>\n",
       "    </tr>\n",
       "    <tr>\n",
       "      <th>8</th>\n",
       "      <td>Practicality</td>\n",
       "      <td>0.217141</td>\n",
       "    </tr>\n",
       "    <tr>\n",
       "      <th>9</th>\n",
       "      <td>Self-expression</td>\n",
       "      <td>0.457011</td>\n",
       "    </tr>\n",
       "    <tr>\n",
       "      <th>10</th>\n",
       "      <td>Stability</td>\n",
       "      <td>0.219760</td>\n",
       "    </tr>\n",
       "  </tbody>\n",
       "</table>\n",
       "</div>"
      ],
      "text/plain": [
       "               need  percentile\n",
       "0         Challenge    0.307300\n",
       "1         Closeness    0.335569\n",
       "2         Curiosity    0.708706\n",
       "3        Excitement    0.388487\n",
       "4           Harmony    0.245268\n",
       "5             Ideal    0.322814\n",
       "6           Liberty    0.500290\n",
       "7              Love    0.410027\n",
       "8      Practicality    0.217141\n",
       "9   Self-expression    0.457011\n",
       "10        Stability    0.219760"
      ]
     },
     "execution_count": 24,
     "metadata": {},
     "output_type": "execute_result"
    }
   ],
   "source": [
    "df.head(11)"
   ]
  },
  {
   "cell_type": "code",
   "execution_count": 25,
   "metadata": {},
   "outputs": [
    {
     "data": {
      "image/png": "[encoded data removed]",
      "text/plain": [
       "<Figure size 1080x360 with 1 Axes>"
      ]
     },
     "metadata": {
      "needs_background": "light"
     },
     "output_type": "display_data"
    }
   ],
   "source": [
    "plt.figure(figsize=(15,5))\n",
    "sns.barplot(y='percentile', x='need', data=df).set_title('Needs')\n",
    "plt.show()\n"
   ]
  },
  {
   "cell_type": "code",
   "execution_count": null,
   "metadata": {},
   "outputs": [],
   "source": []
  }
 ],
 "metadata": {
  "kernelspec": {
   "display_name": "Python 3",
   "language": "python",
   "name": "python3"
  },
  "language_info": {
   "codemirror_mode": {
    "name": "ipython",
    "version": 3
   },
   "file_extension": ".py",
   "mimetype": "text/x-python",
   "name": "python",
   "nbconvert_exporter": "python",
   "pygments_lexer": "ipython3",
   "version": "3.8.3"
  }
 },
 "nbformat": 4,
 "nbformat_minor": 4
}
